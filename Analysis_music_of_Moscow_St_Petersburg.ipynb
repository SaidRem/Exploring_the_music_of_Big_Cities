{
 "cells": [
  {
   "cell_type": "markdown",
   "metadata": {
    "colab_type": "text",
    "deletable": false,
    "id": "5UYxO1GdF6Wy",
    "tags": [
     "f6c88c58-a82b-4f28-8bd6-fd55c0017917"
    ]
   },
   "source": [
    "# Research: Music of Big Cities"
   ]
  },
  {
   "cell_type": "markdown",
   "metadata": {
    "colab_type": "text",
    "deletable": false,
    "id": "iI4ITclJaFWh"
   },
   "source": [
    "Question: how is the music played on the way to work on Monday morning different from the one played on Wednesday or\n",
    "at the end of the work week?\n",
    "\n",
    "Based on the data for Moscow and St.Petersburg, compare what and in what mode their residents listen."
   ]
  },
  {
   "cell_type": "markdown",
   "metadata": {
    "colab_type": "text",
    "deletable": false,
    "id": "0skiEFxDZ0Tr"
   },
   "source": [
    "## Imports"
   ]
  },
  {
   "cell_type": "code",
   "execution_count": 1,
   "metadata": {
    "colab": {},
    "colab_type": "code",
    "deletable": false,
    "id": "HirRov5vZ3MT"
   },
   "outputs": [],
   "source": [
    "import pandas as pd"
   ]
  },
  {
   "cell_type": "markdown",
   "metadata": {
    "colab_type": "text",
    "deletable": false,
    "id": "Tr8dl3PWGFIk"
   },
   "source": [
    "Read file *music_project.csv*"
   ]
  },
  {
   "cell_type": "code",
   "execution_count": 2,
   "metadata": {
    "colab": {},
    "colab_type": "code",
    "deletable": false,
    "id": "NB6j931yS4hy"
   },
   "outputs": [],
   "source": [
    "df = pd.read_csv(r'/datasets/music_project.csv') # <reading data file with saving to df>"
   ]
  },
  {
   "cell_type": "markdown",
   "metadata": {
    "colab_type": "text",
    "deletable": false,
    "id": "y2usmNMlDLbY",
    "tags": [
     "f3a2f13f-d110-4558-a520-4805b5bd1dfe"
    ]
   },
   "source": [
    "Getting the first 10 rows of the table"
   ]
  },
  {
   "cell_type": "code",
   "execution_count": 3,
   "metadata": {
    "colab": {},
    "colab_type": "code",
    "deletable": false,
    "id": "DY5i8tgXVDGj"
   },
   "outputs": [
    {
     "data": {
      "text/html": [
       "<div>\n",
       "<style scoped>\n",
       "    .dataframe tbody tr th:only-of-type {\n",
       "        vertical-align: middle;\n",
       "    }\n",
       "\n",
       "    .dataframe tbody tr th {\n",
       "        vertical-align: top;\n",
       "    }\n",
       "\n",
       "    .dataframe thead th {\n",
       "        text-align: right;\n",
       "    }\n",
       "</style>\n",
       "<table border=\"1\" class=\"dataframe\">\n",
       "  <thead>\n",
       "    <tr style=\"text-align: right;\">\n",
       "      <th></th>\n",
       "      <th>userID</th>\n",
       "      <th>Track</th>\n",
       "      <th>artist</th>\n",
       "      <th>genre</th>\n",
       "      <th>City</th>\n",
       "      <th>time</th>\n",
       "      <th>Day</th>\n",
       "    </tr>\n",
       "  </thead>\n",
       "  <tbody>\n",
       "    <tr>\n",
       "      <td>0</td>\n",
       "      <td>FFB692EC</td>\n",
       "      <td>Kamigata To Boots</td>\n",
       "      <td>The Mass Missile</td>\n",
       "      <td>rock</td>\n",
       "      <td>Saint-Petersburg</td>\n",
       "      <td>20:28:33</td>\n",
       "      <td>Wednesday</td>\n",
       "    </tr>\n",
       "    <tr>\n",
       "      <td>1</td>\n",
       "      <td>55204538</td>\n",
       "      <td>Delayed Because of Accident</td>\n",
       "      <td>Andreas Rönnberg</td>\n",
       "      <td>rock</td>\n",
       "      <td>Moscow</td>\n",
       "      <td>14:07:09</td>\n",
       "      <td>Friday</td>\n",
       "    </tr>\n",
       "    <tr>\n",
       "      <td>2</td>\n",
       "      <td>20EC38</td>\n",
       "      <td>Funiculì funiculà</td>\n",
       "      <td>Mario Lanza</td>\n",
       "      <td>pop</td>\n",
       "      <td>Saint-Petersburg</td>\n",
       "      <td>20:58:07</td>\n",
       "      <td>Wednesday</td>\n",
       "    </tr>\n",
       "    <tr>\n",
       "      <td>3</td>\n",
       "      <td>A3DD03C9</td>\n",
       "      <td>Dragons in the Sunset</td>\n",
       "      <td>Fire + Ice</td>\n",
       "      <td>folk</td>\n",
       "      <td>Saint-Petersburg</td>\n",
       "      <td>08:37:09</td>\n",
       "      <td>Monday</td>\n",
       "    </tr>\n",
       "    <tr>\n",
       "      <td>4</td>\n",
       "      <td>E2DC1FAE</td>\n",
       "      <td>Soul People</td>\n",
       "      <td>Space Echo</td>\n",
       "      <td>dance</td>\n",
       "      <td>Moscow</td>\n",
       "      <td>08:34:34</td>\n",
       "      <td>Monday</td>\n",
       "    </tr>\n",
       "    <tr>\n",
       "      <td>5</td>\n",
       "      <td>842029A1</td>\n",
       "      <td>Преданная</td>\n",
       "      <td>IMPERVTOR</td>\n",
       "      <td>rusrap</td>\n",
       "      <td>Saint-Petersburg</td>\n",
       "      <td>13:09:41</td>\n",
       "      <td>Friday</td>\n",
       "    </tr>\n",
       "    <tr>\n",
       "      <td>6</td>\n",
       "      <td>4CB90AA5</td>\n",
       "      <td>True</td>\n",
       "      <td>Roman Messer</td>\n",
       "      <td>dance</td>\n",
       "      <td>Moscow</td>\n",
       "      <td>13:00:07</td>\n",
       "      <td>Wednesday</td>\n",
       "    </tr>\n",
       "    <tr>\n",
       "      <td>7</td>\n",
       "      <td>F03E1C1F</td>\n",
       "      <td>Feeling This Way</td>\n",
       "      <td>Polina Griffith</td>\n",
       "      <td>dance</td>\n",
       "      <td>Moscow</td>\n",
       "      <td>20:47:49</td>\n",
       "      <td>Wednesday</td>\n",
       "    </tr>\n",
       "    <tr>\n",
       "      <td>8</td>\n",
       "      <td>8FA1D3BE</td>\n",
       "      <td>И вновь продолжается бой</td>\n",
       "      <td>NaN</td>\n",
       "      <td>ruspop</td>\n",
       "      <td>Moscow</td>\n",
       "      <td>09:17:40</td>\n",
       "      <td>Friday</td>\n",
       "    </tr>\n",
       "    <tr>\n",
       "      <td>9</td>\n",
       "      <td>E772D5C0</td>\n",
       "      <td>Pessimist</td>\n",
       "      <td>NaN</td>\n",
       "      <td>dance</td>\n",
       "      <td>Saint-Petersburg</td>\n",
       "      <td>21:20:49</td>\n",
       "      <td>Wednesday</td>\n",
       "    </tr>\n",
       "  </tbody>\n",
       "</table>\n",
       "</div>"
      ],
      "text/plain": [
       "     userID                        Track            artist   genre  \\\n",
       "0  FFB692EC            Kamigata To Boots  The Mass Missile    rock   \n",
       "1  55204538  Delayed Because of Accident  Andreas Rönnberg    rock   \n",
       "2    20EC38            Funiculì funiculà       Mario Lanza     pop   \n",
       "3  A3DD03C9        Dragons in the Sunset        Fire + Ice    folk   \n",
       "4  E2DC1FAE                  Soul People        Space Echo   dance   \n",
       "5  842029A1                    Преданная         IMPERVTOR  rusrap   \n",
       "6  4CB90AA5                         True      Roman Messer   dance   \n",
       "7  F03E1C1F             Feeling This Way   Polina Griffith   dance   \n",
       "8  8FA1D3BE     И вновь продолжается бой               NaN  ruspop   \n",
       "9  E772D5C0                    Pessimist               NaN   dance   \n",
       "\n",
       "             City        time        Day  \n",
       "0  Saint-Petersburg  20:28:33  Wednesday  \n",
       "1            Moscow  14:07:09     Friday  \n",
       "2  Saint-Petersburg  20:58:07  Wednesday  \n",
       "3  Saint-Petersburg  08:37:09     Monday  \n",
       "4            Moscow  08:34:34     Monday  \n",
       "5  Saint-Petersburg  13:09:41     Friday  \n",
       "6            Moscow  13:00:07  Wednesday  \n",
       "7            Moscow  20:47:49  Wednesday  \n",
       "8            Moscow  09:17:40     Friday  \n",
       "9  Saint-Petersburg  21:20:49  Wednesday  "
      ]
     },
     "execution_count": 3,
     "metadata": {},
     "output_type": "execute_result"
    }
   ],
   "source": [
    "df.head(10) "
   ]
  },
  {
   "cell_type": "markdown",
   "metadata": {
    "colab_type": "text",
    "deletable": false,
    "id": "FrIiRHuHIBbN",
    "tags": [
     "0210c096-9595-4600-b91d-42ab36a6c3f0"
    ]
   },
   "source": [
    "General information about the data\n",
    "\n",
    "\n"
   ]
  },
  {
   "cell_type": "code",
   "execution_count": 4,
   "metadata": {
    "colab": {},
    "colab_type": "code",
    "deletable": false,
    "id": "K7t8OdZsYN2y"
   },
   "outputs": [
    {
     "data": {
      "text/plain": [
       "<bound method DataFrame.info of          userID                              Track            artist  \\\n",
       "0      FFB692EC                  Kamigata To Boots  The Mass Missile   \n",
       "1      55204538        Delayed Because of Accident  Andreas Rönnberg   \n",
       "2        20EC38                  Funiculì funiculà       Mario Lanza   \n",
       "3      A3DD03C9              Dragons in the Sunset        Fire + Ice   \n",
       "4      E2DC1FAE                        Soul People        Space Echo   \n",
       "...         ...                                ...               ...   \n",
       "65074  729CBB09                            My Name            McLean   \n",
       "65075  D08D4A55  Maybe One Day (feat. Black Spade)       Blu & Exile   \n",
       "65076  C5E3A0D5                          Jalopiina               NaN   \n",
       "65077  321D0506                      Freight Train     Chas McDevitt   \n",
       "65078  3A64EF84          Tell Me Sweet Little Lies      Monica Lopez   \n",
       "\n",
       "            genre            City        time        Day  \n",
       "0            rock  Saint-Petersburg  20:28:33  Wednesday  \n",
       "1            rock            Moscow  14:07:09     Friday  \n",
       "2             pop  Saint-Petersburg  20:58:07  Wednesday  \n",
       "3            folk  Saint-Petersburg  08:37:09     Monday  \n",
       "4           dance            Moscow  08:34:34     Monday  \n",
       "...           ...               ...       ...        ...  \n",
       "65074         rnb            Moscow  13:32:28  Wednesday  \n",
       "65075         hip  Saint-Petersburg  10:00:00     Monday  \n",
       "65076  industrial            Moscow  20:09:26     Friday  \n",
       "65077        rock            Moscow  21:43:59     Friday  \n",
       "65078     country            Moscow  21:59:46     Friday  \n",
       "\n",
       "[65079 rows x 7 columns]>"
      ]
     },
     "execution_count": 4,
     "metadata": {},
     "output_type": "execute_result"
    }
   ],
   "source": [
    "df.info"
   ]
  },
  {
   "cell_type": "markdown",
   "metadata": {
    "colab_type": "text",
    "deletable": false,
    "id": "CnHv9HZCc7LN"
   },
   "source": [
    "Let's consider the information received.\n",
    "\n",
    "There are 7 colomns in total:\n",
    "\n",
    "* userID;\n",
    "* Track (name of the track);  \n",
    "* artist (artist name);\n",
    "* genre (genre of the track);\n",
    "* City (cityt where the audition took place);\n",
    "* time (the time at which user listened to the track);\n",
    "* Day (day of week).\n",
    "\n",
    "    The number of values in the columns varies. This indicates that there is a missing value in the data.\n",
    "\n"
   ]
  },
  {
   "cell_type": "markdown",
   "metadata": {
    "colab_type": "text",
    "deletable": false,
    "id": "DCYFm5VrevuB"
   },
   "source": [
    "**Conclusions**"
   ]
  },
  {
   "cell_type": "markdown",
   "metadata": {
    "colab_type": "text",
    "deletable": false,
    "id": "PCEtjdmvezRm"
   },
   "source": [
    "Each row of the table contains information about compositions of a certain genre in a certain performance that users listened to in one of the cities at a certain time and day of the week. Two problems to deal with are gaps and bad column names. The 'time', 'day', and 'City' columns are especially valuable for testing working hypotheses. Genre column data will reveal the most popular genres."
   ]
  },
  {
   "cell_type": "markdown",
   "metadata": {
    "colab_type": "text",
    "deletable": false,
    "id": "ZYaC0bU-IZ0a",
    "tags": [
     "2c946931-9c91-4e15-baf8-43fb79bcb454"
    ]
   },
   "source": [
    "# Data preprocessing"
   ]
  },
  {
   "cell_type": "markdown",
   "metadata": {
    "colab_type": "text",
    "deletable": false,
    "id": "Dl8grmTrPxZi"
   },
   "source": [
    "Let's eliminate gaps, rename columns, and check the data for duplicates."
   ]
  },
  {
   "cell_type": "markdown",
   "metadata": {
    "colab_type": "text",
    "deletable": false,
    "id": "6OIhlsG_IjI8"
   },
   "source": [
    "Get a list of column names."
   ]
  },
  {
   "cell_type": "code",
   "execution_count": 5,
   "metadata": {
    "colab": {},
    "colab_type": "code",
    "deletable": false,
    "id": "Tag65F_Uitsx"
   },
   "outputs": [
    {
     "data": {
      "text/plain": [
       "Index(['  userID', 'Track', 'artist', 'genre', '  City  ', 'time', 'Day'], dtype='object')"
      ]
     },
     "execution_count": 5,
     "metadata": {},
     "output_type": "execute_result"
    }
   ],
   "source": [
    "df.columns # list of column names. Let's check them."
   ]
  },
  {
   "cell_type": "markdown",
   "metadata": {
    "colab_type": "text",
    "deletable": false,
    "id": "x6iJC-cEhnRL"
   },
   "source": [
    "Column names contain spaces that can make data difficult to access and process."
   ]
  },
  {
   "cell_type": "markdown",
   "metadata": {
    "colab_type": "text",
    "deletable": false,
    "id": "BK6m6-DZhlTs",
    "tags": [
     "c2b469cf-2148-4115-8806-0fbb00a9d55d"
    ]
   },
   "source": [
    "Let's rename the columns for the convenience of further work.\n",
    "\n"
   ]
  },
  {
   "cell_type": "code",
   "execution_count": 6,
   "metadata": {
    "colab": {},
    "colab_type": "code",
    "deletable": false,
    "id": "XintVfCniw2-"
   },
   "outputs": [],
   "source": [
    "new_names = ['user_id', 'track_name', 'artist_name', 'genre_name', 'city', 'time', 'weekday']\n",
    "df.set_axis(new_names, axis='columns', inplace=True)"
   ]
  },
  {
   "cell_type": "code",
   "execution_count": 7,
   "metadata": {
    "colab": {},
    "colab_type": "code",
    "deletable": false,
    "id": "ozQL91G4izdp"
   },
   "outputs": [
    {
     "data": {
      "text/plain": [
       "Index(['user_id', 'track_name', 'artist_name', 'genre_name', 'city', 'time',\n",
       "       'weekday'],\n",
       "      dtype='object')"
      ]
     },
     "execution_count": 7,
     "metadata": {},
     "output_type": "execute_result"
    }
   ],
   "source": [
    "df.columns # Check the results"
   ]
  },
  {
   "cell_type": "markdown",
   "metadata": {
    "colab_type": "text",
    "deletable": false,
    "id": "oc2qS2UBIkQu",
    "tags": [
     "325fae3b-abce-4c7c-8c41-87ed8a26ff5d"
    ]
   },
   "source": [
    "Let's check the data for gaps by calling a set of methods for summing missing values."
   ]
  },
  {
   "cell_type": "code",
   "execution_count": 8,
   "metadata": {
    "colab": {},
    "colab_type": "code",
    "deletable": false,
    "id": "BZh9yLHhjy_R"
   },
   "outputs": [
    {
     "data": {
      "text/plain": [
       "user_id           0\n",
       "track_name     1231\n",
       "artist_name    7203\n",
       "genre_name     1198\n",
       "city              0\n",
       "time              0\n",
       "weekday           0\n",
       "dtype: int64"
      ]
     },
     "execution_count": 8,
     "metadata": {},
     "output_type": "execute_result"
    }
   ],
   "source": [
    "df.isnull().sum() # total number of omission identified by the method isnull()"
   ]
  },
  {
   "cell_type": "markdown",
   "metadata": {
    "colab_type": "text",
    "deletable": false,
    "id": "OJXGaa02tSJJ"
   },
   "source": [
    "Empty values indicate that not all information is available for some tracks.\n",
    "The reasons may vary. Each individual case must by analyzed and the cause identified."
   ]
  },
  {
   "cell_type": "markdown",
   "metadata": {
    "colab_type": "text",
    "deletable": false,
    "id": "-fBDAWZUkAg-"
   },
   "source": [
    "Replace the missing values in the track and artist columns with the string \"unknown\". After this operation, check the table no longer contains gaps."
   ]
  },
  {
   "cell_type": "code",
   "execution_count": 9,
   "metadata": {
    "colab": {},
    "colab_type": "code",
    "deletable": false,
    "id": "EO8zFcJPlbvV"
   },
   "outputs": [],
   "source": [
    "# Replace missing values in 'track_name' column with 'unknown' string.\n",
    "df['track_name'] = df['track_name'].fillna('unknown')\n",
    "\n"
   ]
  },
  {
   "cell_type": "code",
   "execution_count": 10,
   "metadata": {
    "colab": {},
    "colab_type": "code",
    "deletable": false,
    "id": "3hsNZcLST0UW"
   },
   "outputs": [],
   "source": [
    "# Replace missing values in 'artist_name' column with 'unknown' string.\n",
    "df['artist_name'] = df['artist_name'].fillna('unknown')"
   ]
  },
  {
   "cell_type": "code",
   "execution_count": 11,
   "metadata": {
    "colab": {},
    "colab_type": "code",
    "deletable": false,
    "id": "Ua-Z8TAblgzC"
   },
   "outputs": [
    {
     "data": {
      "text/plain": [
       "user_id           0\n",
       "track_name        0\n",
       "artist_name       0\n",
       "genre_name     1198\n",
       "city              0\n",
       "time              0\n",
       "weekday           0\n",
       "dtype: int64"
      ]
     },
     "execution_count": 11,
     "metadata": {},
     "output_type": "execute_result"
    }
   ],
   "source": [
    "# Check: calculating the total number of missing values.\n",
    "df.isnull().sum()"
   ]
  },
  {
   "cell_type": "markdown",
   "metadata": {
    "colab_type": "text",
    "deletable": false,
    "id": "-cjfT0w2ln9C",
    "tags": [
     "9cb28dd4-e24e-4490-aebd-b37ba9e492c5"
    ]
   },
   "source": [
    "Delete empty values in the column with genres and after that check that there are no more of them."
   ]
  },
  {
   "cell_type": "code",
   "execution_count": 15,
   "metadata": {
    "colab": {},
    "colab_type": "code",
    "deletable": false,
    "id": "TIpk7lwtnZkZ"
   },
   "outputs": [],
   "source": [
    "# Delete missing values in the 'genre_name' column.\n",
    "df.dropna(subset=['genre_name'], inplace=True)"
   ]
  },
  {
   "cell_type": "code",
   "execution_count": 16,
   "metadata": {
    "colab": {},
    "colab_type": "code",
    "deletable": false,
    "id": "-1CT-CCZnzTA"
   },
   "outputs": [
    {
     "data": {
      "text/plain": [
       "user_id        0\n",
       "track_name     0\n",
       "artist_name    0\n",
       "genre_name     0\n",
       "city           0\n",
       "time           0\n",
       "weekday        0\n",
       "dtype: int64"
      ]
     },
     "execution_count": 16,
     "metadata": {},
     "output_type": "execute_result"
    }
   ],
   "source": [
    "df.isnull().sum()"
   ]
  },
  {
   "cell_type": "markdown",
   "metadata": {
    "colab_type": "text",
    "deletable": false,
    "id": "QsBXpJFzpxA9",
    "tags": [
     "ea46db29-6746-4c02-a47b-75283dde9025"
    ]
   },
   "source": [
    "Establish the presence of duplicates. If there any -> delete and check if they all deleted."
   ]
  },
  {
   "cell_type": "code",
   "execution_count": 17,
   "metadata": {
    "colab": {},
    "colab_type": "code",
    "deletable": false,
    "id": "VRVI_B0RqIgT"
   },
   "outputs": [
    {
     "data": {
      "text/plain": [
       "3755"
      ]
     },
     "execution_count": 17,
     "metadata": {},
     "output_type": "execute_result"
    }
   ],
   "source": [
    "# Getting the total number of duplicates.\n",
    "df.duplicated().sum() "
   ]
  },
  {
   "cell_type": "code",
   "execution_count": 18,
   "metadata": {
    "colab": {},
    "colab_type": "code",
    "deletable": false,
    "id": "nSYF38OeqZn-"
   },
   "outputs": [],
   "source": [
    "# Removing all duplicates from the table.\n",
    "df = df.drop_duplicates().reset_index(drop=True)"
   ]
  },
  {
   "cell_type": "code",
   "execution_count": 19,
   "metadata": {
    "colab": {},
    "colab_type": "code",
    "deletable": false,
    "id": "O-RfjmkCqIgV"
   },
   "outputs": [
    {
     "data": {
      "text/plain": [
       "0"
      ]
     },
     "execution_count": 19,
     "metadata": {},
     "output_type": "execute_result"
    }
   ],
   "source": [
    "# Check for duplicates.\n",
    "df.duplicated().sum()"
   ]
  },
  {
   "cell_type": "markdown",
   "metadata": {
    "colab_type": "text",
    "deletable": false,
    "id": "e6cyWPTwsLKw"
   },
   "source": [
    "Duplicates may have appeared due to a failure in data recording. It is worth paying attention and sorting out the reasons for the appearance of such \"information garbage\"."
   ]
  },
  {
   "cell_type": "markdown",
   "metadata": {
    "colab_type": "text",
    "deletable": false,
    "id": "QH-HgrApInjO",
    "tags": [
     "46fb87e8-2d9c-497d-9c6e-746eaa2631ab"
    ]
   },
   "source": [
    "Let's create:\n",
    "\n",
    "1) \"genre_list\" - list of unique values for the genre.\n",
    "\n",
    "2) Function *find_genre()* to find implicit duplicates in a column with genres (for example, when the name of the same genre is written in different words). \n"
   ]
  },
  {
   "cell_type": "code",
   "execution_count": 20,
   "metadata": {
    "colab": {},
    "colab_type": "code",
    "deletable": false,
    "id": "FfaTfKAN-PCx"
   },
   "outputs": [],
   "source": [
    "# Saving in the variable genres_list list of unique values.\n",
    "genres_list = df['genre_name'].unique()"
   ]
  },
  {
   "cell_type": "code",
   "execution_count": 21,
   "metadata": {
    "colab": {},
    "colab_type": "code",
    "deletable": false,
    "id": "TA_k-VLi-S0R"
   },
   "outputs": [],
   "source": [
    "# Function \"find_genre()\"\n",
    "\n",
    "def find_genre(genre):\n",
    "    \"\"\"\n",
    "       Takes as a parameter a string with the name of the desired genre,\n",
    "       a counter variable is decalred in the body,\n",
    "       then the for loop goes through the list of unique values,\n",
    "       if the next item in the list is equal to the function parameter\n",
    "       then the counter value is increased by 1.\n",
    "       The function returns the counter value.\n",
    "    \"\"\"\n",
    "    count = 0\n",
    "    for g in genres_list:\n",
    "        if g == genre:\n",
    "            count += 1\n",
    "    return count\n"
   ]
  },
  {
   "cell_type": "markdown",
   "metadata": {
    "colab_type": "text",
    "deletable": false,
    "id": "vb3CTOciIL27",
    "tags": [
     "b57e3325-29fc-4ade-83a3-91113c5dad32"
    ]
   },
   "source": [
    "Let's call the *find_genre()* to find different hip-hop genre names in a table.\n",
    "\n",
    "The correct name is *hiphop*. \n",
    "Let's look for other options:\n",
    "\n",
    "* hip\n",
    "* hop\n",
    "* hip-hop\n"
   ]
  },
  {
   "cell_type": "code",
   "execution_count": 22,
   "metadata": {
    "colab": {},
    "colab_type": "code",
    "deletable": false,
    "id": "YrwqExZS-dyQ"
   },
   "outputs": [
    {
     "data": {
      "text/plain": [
       "1"
      ]
     },
     "execution_count": 22,
     "metadata": {},
     "output_type": "execute_result"
    }
   ],
   "source": [
    "find_genre('hip')"
   ]
  },
  {
   "cell_type": "code",
   "execution_count": 23,
   "metadata": {
    "colab": {},
    "colab_type": "code",
    "deletable": false,
    "id": "ZoL4EEcR-dyU"
   },
   "outputs": [
    {
     "data": {
      "text/plain": [
       "0"
      ]
     },
     "execution_count": 23,
     "metadata": {},
     "output_type": "execute_result"
    }
   ],
   "source": [
    "find_genre('hop')"
   ]
  },
  {
   "cell_type": "code",
   "execution_count": 24,
   "metadata": {
    "colab": {},
    "colab_type": "code",
    "deletable": false,
    "id": "MFowmiug-qZD"
   },
   "outputs": [
    {
     "data": {
      "text/plain": [
       "0"
      ]
     },
     "execution_count": 24,
     "metadata": {},
     "output_type": "execute_result"
    }
   ],
   "source": [
    "find_genre('hip-hop')"
   ]
  },
  {
   "cell_type": "markdown",
   "metadata": {
    "colab_type": "text",
    "deletable": false,
    "id": "a7BQY6ORLMSG",
    "tags": [
     "11f77aa1-5478-453d-b31e-f20041047bb7"
    ]
   },
   "source": [
    "Let's declare the 'find_hip_hop()' function, which replaces the incorrect name of the genre in the 'genre_name' column with 'hiphop' and checks if the replacement was successful.\n",
    "So correct all the spellings that the check revealed."
   ]
  },
  {
   "cell_type": "code",
   "execution_count": 25,
   "metadata": {
    "colab": {},
    "colab_type": "code",
    "deletable": false,
    "id": "31xlzL_c_FgB"
   },
   "outputs": [],
   "source": [
    "# Function 'find_hip_hop'\n",
    "\n",
    "def find_hip_hop(df, wrong):\n",
    "    \"\"\"\n",
    "    Takes as parameters the table and the wrong name,\n",
    "    a special method is applied to the 'genre_name' column,\n",
    "    which replaces the second parameter with the string 'hiphop',\n",
    "    the function returns the number of column values calculated by count()\n",
    "    \"\"\"\n",
    "    df['genre_name'] = df['genre_name'].replace(wrong, 'hiphop')\n",
    "    result = df[df['genre_name'] == wrong]['genre_name'].count()\n",
    "    return result"
   ]
  },
  {
   "cell_type": "code",
   "execution_count": 26,
   "metadata": {
    "colab": {},
    "colab_type": "code",
    "deletable": false,
    "id": "ZFXMV2qW_FgE"
   },
   "outputs": [
    {
     "data": {
      "text/plain": [
       "0"
      ]
     },
     "execution_count": 26,
     "metadata": {},
     "output_type": "execute_result"
    }
   ],
   "source": [
    "find_hip_hop(df, 'hip')"
   ]
  },
  {
   "cell_type": "markdown",
   "metadata": {
    "colab_type": "text",
    "deletable": false,
    "id": "i90BILA9JQpE",
    "tags": [
     "30535c8e-1643-4088-925b-2a32180e0333"
    ]
   },
   "source": [
    "Get general information about the data. Check the cleaning was successful."
   ]
  },
  {
   "cell_type": "code",
   "execution_count": 27,
   "metadata": {
    "colab": {},
    "colab_type": "code",
    "deletable": false,
    "id": "-yyvdzHA_uJm"
   },
   "outputs": [
    {
     "name": "stdout",
     "output_type": "stream",
     "text": [
      "<class 'pandas.core.frame.DataFrame'>\n",
      "RangeIndex: 60126 entries, 0 to 60125\n",
      "Data columns (total 7 columns):\n",
      "user_id        60126 non-null object\n",
      "track_name     60126 non-null object\n",
      "artist_name    60126 non-null object\n",
      "genre_name     60126 non-null object\n",
      "city           60126 non-null object\n",
      "time           60126 non-null object\n",
      "weekday        60126 non-null object\n",
      "dtypes: object(7)\n",
      "memory usage: 3.2+ MB\n"
     ]
    }
   ],
   "source": [
    "df.info()"
   ]
  },
  {
   "cell_type": "markdown",
   "metadata": {
    "colab_type": "text",
    "deletable": false,
    "id": "AReHO17cMRPM"
   },
   "source": [
    "**Conclusions**"
   ]
  },
  {
   "cell_type": "markdown",
   "metadata": {
    "colab_type": "text",
    "deletable": false,
    "id": "yscfstUqMS4c"
   },
   "source": [
    "At the preprocesiing stage, not only gaps and problems with column names were found in the data, but also all kinds of duplicates. Removing them will make the analysis more accurate. Since it is important to save genre information for analysis, I do not just remove all missing values, but fill in the missing artist names and track titles. Column names are now correct and convenient for further work."
   ]
  },
  {
   "cell_type": "markdown",
   "metadata": {
    "colab_type": "text",
    "deletable": false,
    "id": "MF4nnd1YJUrI",
    "tags": [
     "ac8df732-1797-479a-9c4c-a03745931a9d"
    ]
   },
   "source": [
    "# Is it really people in different cities listens different music."
   ]
  },
  {
   "cell_type": "markdown",
   "metadata": {
    "colab_type": "text",
    "deletable": false,
    "id": "AYSL1OvyM2pL"
   },
   "source": [
    "It was hypothesized that in Moscow and St.Petersburg, users listen to music in different ways. Let's check this assumption using data on three days of the week - Monday, Wednesday and Friday.\n",
    "\n",
    "For each city, let's set the number of songs with a known genre listened to these days, and compare the results."
   ]
  },
  {
   "cell_type": "markdown",
   "metadata": {
    "colab_type": "text",
    "deletable": false,
    "id": "OM5Eeh7FNWC-"
   },
   "source": [
    "Let's group the data by city and call the 'count()' method to count the compositions for which the genre is known."
   ]
  },
  {
   "cell_type": "code",
   "execution_count": 28,
   "metadata": {
    "colab": {},
    "colab_type": "code",
    "deletable": false,
    "id": "AtH_pP1i_0m1"
   },
   "outputs": [
    {
     "data": {
      "text/plain": [
       "city\n",
       "Moscow              41892\n",
       "Saint-Petersburg    18234\n",
       "Name: genre_name, dtype: int64"
      ]
     },
     "execution_count": 28,
     "metadata": {},
     "output_type": "execute_result"
    }
   ],
   "source": [
    "df.groupby('city')['genre_name'].count()"
   ]
  },
  {
   "cell_type": "markdown",
   "metadata": {
    "colab_type": "text",
    "deletable": false,
    "id": "XBR226DMpIDf"
   },
   "source": [
    "There are more auditions in Moscow than in St.Petersburg, but this does not mean that Moscow is more active. Yandex.Music has more users in Moscow, so the numbers are comparable."
   ]
  },
  {
   "cell_type": "markdown",
   "metadata": {
    "colab_type": "text",
    "deletable": false,
    "id": "P7EcNQuyNbNB",
    "tags": [
     "133ddd49-3b63-45b1-b50c-9e6ab5fc4175"
    ]
   },
   "source": [
    "Let's goup the data by the day of the week and calculate the songs listened on Monday, Wednesday and Friday for which the genre is known."
   ]
  },
  {
   "cell_type": "code",
   "execution_count": 29,
   "metadata": {
    "colab": {},
    "colab_type": "code",
    "deletable": false,
    "id": "A8E_Tb2b_3un"
   },
   "outputs": [
    {
     "data": {
      "text/plain": [
       "weekday\n",
       "Friday       21482\n",
       "Monday       20866\n",
       "Wednesday    17778\n",
       "Name: genre_name, dtype: int64"
      ]
     },
     "execution_count": 29,
     "metadata": {},
     "output_type": "execute_result"
    }
   ],
   "source": [
    "df.groupby('weekday')['genre_name'].count()"
   ]
  },
  {
   "cell_type": "markdown",
   "metadata": {
    "colab_type": "text",
    "deletable": false,
    "id": "Zhh6hehCpq_U"
   },
   "source": [
    "**Conclusions:**<br> \n",
    "Monday and Friday are music time; on Wednesday, users are a little more involved in work."
   ]
  },
  {
   "cell_type": "markdown",
   "metadata": {
    "colab_type": "text",
    "deletable": false,
    "id": "bYab2U5BNdmZ",
    "tags": [
     "bae0a168-5e2b-40f9-9701-bfb32d016517"
    ]
   },
   "source": [
    "Let's create the function 'number_tracks()', which takes as parameters a table, the day of the week and the name of the city, and returns the number of listened songs for which the genre is known. \n",
    "Check the number of listened songs for each city and a weekday."
   ]
  },
  {
   "cell_type": "code",
   "execution_count": 30,
   "metadata": {
    "colab": {},
    "colab_type": "code",
    "deletable": false,
    "id": "4SqpGSi5_7hA"
   },
   "outputs": [],
   "source": [
    "# Function number_tracks()\n",
    "\n",
    "def number_tracks(df, day, city):\n",
    "    \"\"\"\n",
    "      The function with three parameters: df, day, city\n",
    "      the track_list variable stores those rows of the df table for which\n",
    "      the value in the 'weekday' column is equal to the day parameter\n",
    "      and at the same time the value in the 'city' column is equal to\n",
    "      the city parameter.\n",
    "    return track_list_count\n",
    "    \"\"\"\n",
    "    track_list = df[(df['weekday']==day)&(df['city']==city)]\n",
    "    track_list_count = track_list['genre_name'].count()\n",
    "    return track_list_count"
   ]
  },
  {
   "cell_type": "code",
   "execution_count": 36,
   "metadata": {
    "deletable": false
   },
   "outputs": [
    {
     "data": {
      "text/plain": [
       "15347"
      ]
     },
     "execution_count": 36,
     "metadata": {},
     "output_type": "execute_result"
    }
   ],
   "source": [
    "# number of tracks for Moscow on Monday.\n",
    "number_tracks(df, 'Monday', 'Moscow') "
   ]
  },
  {
   "cell_type": "code",
   "execution_count": 37,
   "metadata": {
    "deletable": false
   },
   "outputs": [
    {
     "data": {
      "text/plain": [
       "5519"
      ]
     },
     "execution_count": 37,
     "metadata": {},
     "output_type": "execute_result"
    }
   ],
   "source": [
    "# number of tracks for St. Petersburg on Monday.\n",
    "number_tracks(df, 'Monday', 'Saint-Petersburg')"
   ]
  },
  {
   "cell_type": "code",
   "execution_count": 38,
   "metadata": {
    "deletable": false
   },
   "outputs": [
    {
     "data": {
      "text/plain": [
       "10865"
      ]
     },
     "execution_count": 38,
     "metadata": {},
     "output_type": "execute_result"
    }
   ],
   "source": [
    "# number of tracks for Moscow on Wednesday.\n",
    "number_tracks(df, 'Wednesday', 'Moscow')"
   ]
  },
  {
   "cell_type": "code",
   "execution_count": 39,
   "metadata": {
    "deletable": false
   },
   "outputs": [
    {
     "data": {
      "text/plain": [
       "6913"
      ]
     },
     "execution_count": 39,
     "metadata": {},
     "output_type": "execute_result"
    }
   ],
   "source": [
    "# number of tracks for St. Petersburg on Wednesday.\n",
    "number_tracks(df, 'Wednesday', 'Saint-Petersburg')"
   ]
  },
  {
   "cell_type": "code",
   "execution_count": 40,
   "metadata": {
    "deletable": false
   },
   "outputs": [
    {
     "data": {
      "text/plain": [
       "15680"
      ]
     },
     "execution_count": 40,
     "metadata": {},
     "output_type": "execute_result"
    }
   ],
   "source": [
    "# number of tracks for Moscow on Friday\n",
    "number_tracks(df, 'Friday', 'Moscow') "
   ]
  },
  {
   "cell_type": "code",
   "execution_count": 41,
   "metadata": {
    "deletable": false
   },
   "outputs": [
    {
     "data": {
      "text/plain": [
       "5802"
      ]
     },
     "execution_count": 41,
     "metadata": {},
     "output_type": "execute_result"
    }
   ],
   "source": [
    "# number of tracks for St. Petersburg on Friday\n",
    "number_tracks(df, 'Friday', 'Saint-Petersburg')"
   ]
  },
  {
   "cell_type": "markdown",
   "metadata": {
    "colab_type": "text",
    "deletable": false,
    "id": "tCB9zwzzqZ8g",
    "tags": [
     "d73e12bf-3635-484b-8fb6-c7ccc2101671"
    ]
   },
   "source": [
    "Let's summarize the received information in one table, where ['city', 'monday', 'wednesday', 'friday'] are the names of the columns.\n"
   ]
  },
  {
   "cell_type": "code",
   "execution_count": 42,
   "metadata": {
    "deletable": false
   },
   "outputs": [
    {
     "data": {
      "text/html": [
       "<div>\n",
       "<style scoped>\n",
       "    .dataframe tbody tr th:only-of-type {\n",
       "        vertical-align: middle;\n",
       "    }\n",
       "\n",
       "    .dataframe tbody tr th {\n",
       "        vertical-align: top;\n",
       "    }\n",
       "\n",
       "    .dataframe thead th {\n",
       "        text-align: right;\n",
       "    }\n",
       "</style>\n",
       "<table border=\"1\" class=\"dataframe\">\n",
       "  <thead>\n",
       "    <tr style=\"text-align: right;\">\n",
       "      <th></th>\n",
       "      <th>city</th>\n",
       "      <th>monday</th>\n",
       "      <th>wednesday</th>\n",
       "      <th>friday</th>\n",
       "    </tr>\n",
       "  </thead>\n",
       "  <tbody>\n",
       "    <tr>\n",
       "      <td>0</td>\n",
       "      <td>Moscow</td>\n",
       "      <td>15347</td>\n",
       "      <td>10865</td>\n",
       "      <td>15680</td>\n",
       "    </tr>\n",
       "    <tr>\n",
       "      <td>1</td>\n",
       "      <td>Saint-Petersburg</td>\n",
       "      <td>5519</td>\n",
       "      <td>6913</td>\n",
       "      <td>5802</td>\n",
       "    </tr>\n",
       "  </tbody>\n",
       "</table>\n",
       "</div>"
      ],
      "text/plain": [
       "               city  monday  wednesday  friday\n",
       "0            Moscow   15347      10865   15680\n",
       "1  Saint-Petersburg    5519       6913    5802"
      ]
     },
     "execution_count": 42,
     "metadata": {},
     "output_type": "execute_result"
    }
   ],
   "source": [
    "# table with received data\n",
    "data = [['Moscow', 15347, 10865, 15680], ['Saint-Petersburg', 5519, 6913, 5802]]\n",
    "columns = ['city', 'monday', 'wednesday', 'friday']\n",
    "table = pd.DataFrame(data=data, columns=columns)\n",
    "table"
   ]
  },
  {
   "cell_type": "markdown",
   "metadata": {
    "colab_type": "text",
    "deletable": false,
    "id": "LKCYeMXgqPxD"
   },
   "source": [
    "**Conslusions**"
   ]
  },
  {
   "cell_type": "markdown",
   "metadata": {
    "colab_type": "text",
    "deletable": false,
    "id": "RJpg6I8jqQ0x"
   },
   "source": [
    "The results show that, relative to Wednesday, music in St. Petersburg and Moscow is listened to in a 'mirror' manner: in Moscow peaks fall on Monday and Friday, and on Wednesday listening time decreases. Where in St. Petersburg Wednesday is the of the greatest interest in music, and on Monday and Friday it is less, and almost equally less."
   ]
  },
  {
   "cell_type": "markdown",
   "metadata": {
    "colab_type": "text",
    "deletable": false,
    "id": "tLdpUGyewzGf",
    "tags": [
     "1eb8124a-f066-4c43-b1f4-bc672c5efd57"
    ]
   },
   "source": [
    "# Monday morning and Friday evening - different music or the same?"
   ]
  },
  {
   "cell_type": "markdown",
   "metadata": {
    "colab_type": "text",
    "deletable": false,
    "id": "SaQlxcVntL3x"
   },
   "source": [
    "Looking for an answer to the question, which genres prevail in different cities on Monday morning and Friday evening. There is speculation that on Monday morning, users listen to more uplifting music (such as pop), and more dance music (such as electronics) on Friday nights."
   ]
  },
  {
   "cell_type": "markdown",
   "metadata": {
    "colab_type": "text",
    "deletable": false,
    "id": "lYGAneOaPBhS"
   },
   "source": [
    "Let's get data tables for Moscow *moscow_general* and for St. Petersburg *spb_general*."
   ]
  },
  {
   "cell_type": "code",
   "execution_count": 43,
   "metadata": {
    "colab": {},
    "colab_type": "code",
    "deletable": false,
    "id": "Pyz1i56nA5IS"
   },
   "outputs": [],
   "source": [
    "moscow_general = df[df['city']=='Moscow']"
   ]
  },
  {
   "cell_type": "code",
   "execution_count": 44,
   "metadata": {
    "colab": {},
    "colab_type": "code",
    "deletable": false,
    "id": "w3NNN-2hA-al"
   },
   "outputs": [],
   "source": [
    "spb_general = df[df['city']=='Saint-Petersburg']"
   ]
  },
  {
   "cell_type": "markdown",
   "metadata": {
    "colab_type": "text",
    "deletable": false,
    "id": "duDdH_WiPLky",
    "tags": [
     "7f7cae13-ec1c-45c4-9204-0a4354fe1766"
    ]
   },
   "source": [
    "Let's create function *genre_weekday()* that returns a list of genres for the requested day of the week and time of day from such and such hour to such and such."
   ]
  },
  {
   "cell_type": "code",
   "execution_count": 45,
   "metadata": {
    "colab": {},
    "colab_type": "code",
    "deletable": false,
    "id": "JhUdQynHBEYw"
   },
   "outputs": [],
   "source": [
    "\n",
    "def genre_weekday(df, day, time1, time2):\n",
    "    \"\"\"\n",
    "    \n",
    "    \"\"\"\n",
    "    genre_list = df[(df['weekday']==day)&(df['time'] > time1)&(df['time'] < time2)]\n",
    "    genre_list_sorted = genre_list.groupby('genre_name')['genre_name'].count().sort_values(ascending=False).head(10)\n",
    "    return genre_list_sorted"
   ]
  },
  {
   "cell_type": "markdown",
   "metadata": {
    "colab_type": "text",
    "deletable": false,
    "id": "bxGC8kXkP7B-",
    "tags": [
     "63e2c3f3-fa64-4376-8221-e8b753264535"
    ]
   },
   "source": [
    "Let's compare the results obtained in the table for Moscov and St. Petersburg on Morning morning (from 7 to 11) and on Friday evening (from 17 to 23)."
   ]
  },
  {
   "cell_type": "code",
   "execution_count": 47,
   "metadata": {
    "colab": {},
    "colab_type": "code",
    "deletable": false,
    "id": "kbgeq-55BLEI"
   },
   "outputs": [
    {
     "data": {
      "text/plain": [
       "genre_name\n",
       "pop            781\n",
       "dance          549\n",
       "electronic     480\n",
       "rock           474\n",
       "hiphop         286\n",
       "ruspop         186\n",
       "world          181\n",
       "rusrap         175\n",
       "alternative    164\n",
       "classical      157\n",
       "Name: genre_name, dtype: int64"
      ]
     },
     "execution_count": 47,
     "metadata": {},
     "output_type": "execute_result"
    }
   ],
   "source": [
    "genre_weekday(moscow_general, 'Monday', '07:00:00', '11:00:00')"
   ]
  },
  {
   "cell_type": "code",
   "execution_count": 48,
   "metadata": {
    "colab": {},
    "colab_type": "code",
    "deletable": false,
    "id": "XHwa8N2EBRXO"
   },
   "outputs": [
    {
     "data": {
      "text/plain": [
       "genre_name\n",
       "pop            218\n",
       "dance          182\n",
       "rock           162\n",
       "electronic     147\n",
       "hiphop          80\n",
       "ruspop          64\n",
       "alternative     58\n",
       "rusrap          55\n",
       "jazz            44\n",
       "classical       40\n",
       "Name: genre_name, dtype: int64"
      ]
     },
     "execution_count": 48,
     "metadata": {},
     "output_type": "execute_result"
    }
   ],
   "source": [
    "genre_weekday(spb_general, 'Monday', '07:00:00', '11:00:00')"
   ]
  },
  {
   "cell_type": "code",
   "execution_count": 49,
   "metadata": {
    "colab": {},
    "colab_type": "code",
    "deletable": false,
    "id": "YvdSbg2jBUeq"
   },
   "outputs": [
    {
     "data": {
      "text/plain": [
       "genre_name\n",
       "pop            713\n",
       "rock           517\n",
       "dance          495\n",
       "electronic     482\n",
       "hiphop         273\n",
       "world          208\n",
       "ruspop         170\n",
       "alternative    163\n",
       "classical      163\n",
       "rusrap         142\n",
       "Name: genre_name, dtype: int64"
      ]
     },
     "execution_count": 49,
     "metadata": {},
     "output_type": "execute_result"
    }
   ],
   "source": [
    "genre_weekday(moscow_general, 'Friday', '17:00:00', '23:00:00')"
   ]
  },
  {
   "cell_type": "code",
   "execution_count": 50,
   "metadata": {
    "colab": {},
    "colab_type": "code",
    "deletable": false,
    "id": "Ew3ig4fPBUeu"
   },
   "outputs": [
    {
     "data": {
      "text/plain": [
       "genre_name\n",
       "pop            256\n",
       "rock           216\n",
       "electronic     216\n",
       "dance          210\n",
       "hiphop          97\n",
       "alternative     63\n",
       "jazz            61\n",
       "classical       60\n",
       "rusrap          59\n",
       "world           54\n",
       "Name: genre_name, dtype: int64"
      ]
     },
     "execution_count": 50,
     "metadata": {},
     "output_type": "execute_result"
    }
   ],
   "source": [
    "genre_weekday(spb_general, 'Friday', '17:00:00', '23:00:00')"
   ]
  },
  {
   "cell_type": "markdown",
   "metadata": {
    "colab_type": "text",
    "deletable": false,
    "id": "UenYBZTIwYT-"
   },
   "source": [
    "Popular genres on Monday morning in St. Petersburg and Moscow turned out to be similar: everywhere, as expected, pop is popular. Despite this, the ending of the top 10 for the two cities is different: in St. Petersburg, the top 10 includes jazz and Russian rap, and in Moscow th genre is 'world'.\n",
    "\n",
    "At the end of the week, the situation does not change. Pop music still comes first. Again, the difference is noticeable only at the end of the top 10, where the 'world' genre is also present in St. Petersburg on Friday evening."
   ]
  },
  {
   "cell_type": "markdown",
   "metadata": {
    "colab_type": "text",
    "deletable": false,
    "id": "MBxfrKPAykp_"
   },
   "source": [
    "**Conclusions**"
   ]
  },
  {
   "cell_type": "markdown",
   "metadata": {
    "colab_type": "text",
    "deletable": false,
    "id": "j8ypBMwSymL6"
   },
   "source": [
    "The pop genre is the undisputed leader, and the top 5 in general does not differ in both capitals. At the same time, it can be seen that the end of the list is more 'lively': for each city, more characteristic genres are distinguished, which really changes their positions depending on the day of the week and time."
   ]
  },
  {
   "cell_type": "markdown",
   "metadata": {
    "colab_type": "text",
    "deletable": false,
    "id": "D7YMmgKRw270",
    "tags": [
     "f363205e-76b1-4883-abf1-bf21c9572dc7"
    ]
   },
   "source": [
    "# Moscow and St. Petersburg are two different capitals, two different directions in music. Is it true?"
   ]
  },
  {
   "cell_type": "markdown",
   "metadata": {
    "colab_type": "text",
    "deletable": false,
    "id": "Wc5srT13zb4Z"
   },
   "source": [
    "Hypothesis: St. Petersburg is rich in his rap culture, so this trend is listened to more often there, and Moscow is a city of contrasts, but the bulk of users listen to pop music.\n",
    "\n"
   ]
  },
  {
   "cell_type": "markdown",
   "metadata": {
    "colab_type": "text",
    "deletable": false,
    "id": "2SFE9_RV2KEL"
   },
   "source": [
    "Let's group the 'moscow_general' table by genre, count the number of comparisons of each genre using the 'count()' method, sort in descending order and save the result in the 'moscow_genres' table."
   ]
  },
  {
   "cell_type": "code",
   "execution_count": 51,
   "metadata": {
    "colab": {},
    "colab_type": "code",
    "deletable": false,
    "id": "OohoTcsYBheo"
   },
   "outputs": [],
   "source": [
    "\n",
    "moscow_genres = moscow_general.groupby('genre_name')['genre_name'].count().sort_values(ascending=False)\n"
   ]
  },
  {
   "cell_type": "code",
   "execution_count": 52,
   "metadata": {
    "colab": {},
    "colab_type": "code",
    "deletable": false,
    "id": "h7IhIKDrBher"
   },
   "outputs": [
    {
     "data": {
      "text/plain": [
       "genre_name\n",
       "pop            5892\n",
       "dance          4435\n",
       "rock           3965\n",
       "electronic     3786\n",
       "hiphop         2096\n",
       "classical      1616\n",
       "world          1432\n",
       "alternative    1379\n",
       "ruspop         1372\n",
       "rusrap         1161\n",
       "Name: genre_name, dtype: int64"
      ]
     },
     "execution_count": 52,
     "metadata": {},
     "output_type": "execute_result"
    }
   ],
   "source": [
    "moscow_genres.head(10) "
   ]
  },
  {
   "cell_type": "markdown",
   "metadata": {
    "colab_type": "text",
    "deletable": false,
    "id": "gjnf0lol2fUy",
    "tags": [
     "f7503a48-1b28-483d-9f7b-bae79fb182b5"
    ]
   },
   "source": [
    "Let's group the 'spb_general' table by genre, count the number of compositions of each genre using the 'count()' method, sort in descending order and save the result in the 'spb_genres' table.\n",
    "\n",
    "For compare the two cities need only first 10 rows of this table. "
   ]
  },
  {
   "cell_type": "code",
   "execution_count": 53,
   "metadata": {
    "colab": {},
    "colab_type": "code",
    "deletable": false,
    "id": "eQrdA85dB1LO"
   },
   "outputs": [],
   "source": [
    "spb_genres = spb_general.groupby('genre_name')['genre_name'].count().sort_values(ascending=False)"
   ]
  },
  {
   "cell_type": "code",
   "execution_count": 54,
   "metadata": {
    "colab": {},
    "colab_type": "code",
    "deletable": false,
    "id": "AE-Z-1wCB1LS"
   },
   "outputs": [
    {
     "data": {
      "text/plain": [
       "genre_name\n",
       "pop            2431\n",
       "dance          1932\n",
       "rock           1879\n",
       "electronic     1736\n",
       "hiphop          960\n",
       "alternative     649\n",
       "classical       646\n",
       "rusrap          564\n",
       "ruspop          538\n",
       "world           515\n",
       "Name: genre_name, dtype: int64"
      ]
     },
     "execution_count": 54,
     "metadata": {},
     "output_type": "execute_result"
    }
   ],
   "source": [
    "spb_genres.head(10)"
   ]
  },
  {
   "cell_type": "markdown",
   "metadata": {
    "colab_type": "text",
    "deletable": false,
    "id": "J5E-kLgK2piO"
   },
   "source": [
    "**Conclusions**"
   ]
  },
  {
   "cell_type": "markdown",
   "metadata": {
    "colab_type": "text",
    "deletable": false,
    "id": "-9R3-Qh02tNt"
   },
   "source": [
    "In Moscow, besides the absolutely popular genre of pop, there is a direction of russian popular music. This means that the interest in this genre is wider. And rap, contrary to assumption, occupies similar positions in both cities."
   ]
  },
  {
   "cell_type": "markdown",
   "metadata": {
    "colab_type": "text",
    "deletable": false,
    "id": "gLlT9nKMQ3ky",
    "tags": [
     "0d44c8c0-390b-4c9e-b797-ddc3993f6e58"
    ]
   },
   "source": [
    "# Research results\n"
   ]
  },
  {
   "cell_type": "markdown",
   "metadata": {
    "colab_type": "text",
    "deletable": false,
    "id": "GtvyRBbD7dv5"
   },
   "source": [
    "Hypotheses:\n",
    "\n",
    "* music in two cities - Moscow and St. Petersburg - is listened to in different modes;\n",
    "\n",
    "* the lists of the ten most popular genres on Monday morning and Friday evening have characteristic differences;\n",
    "\n",
    "* the population of the two cities prefers different musical genres.\n",
    "\n",
    "**Overall results**\n",
    "\n",
    "Moscow and St. Petersburg agree in tastes: popular music prevails everywhere. At the same time, there is no dependence of preferences on the day of the week in each separate city - people constantly listen to what they the like. But there are differences between the cities in terms of days of the week: Moscow listens more on Monday and Friday, while St. Petersburg, on the contrary, listens more on Wednesday, but less on Monday and Friday.\n",
    "\n",
    "\n",
    "As a result, indicate the first hypothesis is confirmed, the second hypothesis is not confirmed and the third is not confirmed."
   ]
  },
  {
   "cell_type": "code",
   "execution_count": null,
   "metadata": {},
   "outputs": [],
   "source": []
  }
 ],
 "metadata": {
  "kernelspec": {
   "display_name": "Python 3",
   "language": "python",
   "name": "python3"
  },
  "language_info": {
   "codemirror_mode": {
    "name": "ipython",
    "version": 3
   },
   "file_extension": ".py",
   "mimetype": "text/x-python",
   "name": "python",
   "nbconvert_exporter": "python",
   "pygments_lexer": "ipython3",
   "version": "3.7.6"
  }
 },
 "nbformat": 4,
 "nbformat_minor": 1
}
